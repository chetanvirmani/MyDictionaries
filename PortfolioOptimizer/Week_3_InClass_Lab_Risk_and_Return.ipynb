{
  "nbformat": 4,
  "nbformat_minor": 0,
  "metadata": {
    "colab": {
      "name": "Week 3-InClass Lab - Risk_and_Return.ipynb",
      "provenance": [],
      "collapsed_sections": []
    },
    "kernelspec": {
      "name": "python3",
      "display_name": "Python 3"
    },
    "language_info": {
      "name": "python"
    }
  },
  "cells": [
    {
      "cell_type": "code",
      "metadata": {
        "id": "DO6B3VX3h8aI"
      },
      "source": [
        "pip install yfinance --upgrade --no-cache-dir"
      ],
      "execution_count": null,
      "outputs": []
    },
    {
      "cell_type": "code",
      "metadata": {
        "id": "jHt_dLlEiSXb"
      },
      "source": [
        "import numpy as np\n",
        "import pandas as pd\n",
        "from pandas_datareader import data as wb\n",
        "\n",
        "import matplotlib.pyplot as plt\n",
        "%matplotlib inline\n",
        "\n",
        "from datetime import datetime\n",
        "\n",
        "\n",
        "import yfinance as yf\n",
        "\n",
        "yf.pdr_override()"
      ],
      "execution_count": null,
      "outputs": []
    },
    {
      "cell_type": "code",
      "metadata": {
        "id": "JFfh0_nDi1zg"
      },
      "source": [
        "my_start = datetime(2020, 1, 1)\n",
        "my_end = datetime(2020, 12, 31)\n",
        "#my_end = datetime(2020, 12, 31)"
      ],
      "execution_count": null,
      "outputs": []
    },
    {
      "cell_type": "code",
      "metadata": {
        "id": "8iylyPa8iVyP"
      },
      "source": [
        "#tickers=['XLY', 'XLP']\n",
        "#tickers=['XLU', 'XLI']\n",
        "#tickers=['XLV', 'XLF']\n",
        "#tickers=['XLV']\n",
        "mydata = pd.DataFrame()\n",
        "for t in tickers:\n",
        "  mydata[t] =  wb.DataReader(t, data_source='yahoo', start=my_start, end=my_end)['Adj Close']"
      ],
      "execution_count": null,
      "outputs": []
    },
    {
      "cell_type": "code",
      "metadata": {
        "id": "kb30HZz5u7LW"
      },
      "source": [
        "#mydata.info()\n",
        "#mydata_prices=(mydata/1)\n",
        "#mydata_prices['XLV'].argmin()\n",
        "#mydata_prices.iloc[55]\n",
        "#mydata[[]].argmin()"
      ],
      "execution_count": null,
      "outputs": []
    },
    {
      "cell_type": "code",
      "metadata": {
        "id": "EnpmImJxi0Go"
      },
      "source": [
        "import matplotlib.pyplot as plt\n",
        "%matplotlib inline\n",
        "(mydata / mydata.iloc[0] * 1000).plot(figsize = (15, 6));\n",
        "plt.show()"
      ],
      "execution_count": null,
      "outputs": []
    },
    {
      "cell_type": "code",
      "metadata": {
        "id": "U47WPlu73e_F"
      },
      "source": [
        "z=(mydata / mydata.iloc[0] * 1000)\n",
        "z.tail()"
      ],
      "execution_count": null,
      "outputs": []
    },
    {
      "cell_type": "code",
      "metadata": {
        "id": "f6dpUhdejDfn"
      },
      "source": [
        "my_start = datetime(2021, 1, 1)\n",
        "my_end = datetime(2021, 6, 30)"
      ],
      "execution_count": null,
      "outputs": []
    },
    {
      "cell_type": "code",
      "metadata": {
        "id": "R4RFtJjXpJ9_"
      },
      "source": [
        "tickers=['XLV', 'XLF']\n",
        "mydata = pd.DataFrame()\n",
        "for t in tickers:\n",
        "  mydata[t] =  wb.DataReader(t, data_source='yahoo', start=my_start, end=my_end)['Adj Close']"
      ],
      "execution_count": null,
      "outputs": []
    },
    {
      "cell_type": "code",
      "metadata": {
        "id": "06BWz9EDpUxO"
      },
      "source": [
        "import matplotlib.pyplot as plt\n",
        "%matplotlib inline\n",
        "(mydata / mydata.iloc[0] * 1000).plot(figsize = (15, 6));\n",
        "plt.show()"
      ],
      "execution_count": null,
      "outputs": []
    },
    {
      "cell_type": "code",
      "metadata": {
        "id": "BxAZubIspft3"
      },
      "source": [
        ""
      ],
      "execution_count": null,
      "outputs": []
    }
  ]
}